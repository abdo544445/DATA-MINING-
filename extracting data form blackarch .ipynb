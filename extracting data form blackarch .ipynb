{
  "nbformat": 4,
  "nbformat_minor": 0,
  "metadata": {
    "colab": {
      "provenance": [],
      "authorship_tag": "ABX9TyMiLCbciMsGMbU5Tf3+fRlE",
      "include_colab_link": true
    },
    "kernelspec": {
      "name": "python3",
      "display_name": "Python 3"
    },
    "language_info": {
      "name": "python"
    }
  },
  "cells": [
    {
      "cell_type": "markdown",
      "metadata": {
        "id": "view-in-github",
        "colab_type": "text"
      },
      "source": [
        "<a href=\"https://colab.research.google.com/github/abdo544445/DATA-MINING-/blob/main/extracting%20data%20form%20blackarch%20.ipynb\" target=\"_parent\"><img src=\"https://colab.research.google.com/assets/colab-badge.svg\" alt=\"Open In Colab\"/></a>"
      ]
    },
    {
      "cell_type": "code",
      "execution_count": null,
      "metadata": {
        "colab": {
          "base_uri": "https://localhost:8080/"
        },
        "id": "5y0ChtYk0zGW",
        "outputId": "8e1074cb-7941-463a-c710-4cd86e3afba7"
      },
      "outputs": [
        {
          "output_type": "stream",
          "name": "stdout",
          "text": [
            "Names extracted and saved to names.txt\n"
          ]
        }
      ],
      "source": [
        "import requests\n",
        "from bs4 import BeautifulSoup\n",
        "\n",
        "# Replace 'https://your_website.com' with the actual website URL\n",
        "url = 'https://blackarch.org/wireless.html'\n",
        "\n",
        "# Make a request to the website\n",
        "response = requests.get(url)\n",
        "\n",
        "# Parse the HTML content\n",
        "soup = BeautifulSoup(response.content, 'html.parser')\n",
        "\n",
        "# Find all elements with class \"tbl-name\" and itemprop=\"name\"\n",
        "names = soup.find_all('td', class_='tbl-name', itemprop='name')\n",
        "\n",
        "# Extract the text content of each element (the name)\n",
        "extracted_names = [name.text.strip() for name in names]\n",
        "\n",
        "# Write the extracted names to a text file\n",
        "with open('names.txt', 'w') as f:\n",
        "    f.write('\\n'.join(extracted_names))\n",
        "\n",
        "print(\"Names extracted and saved to names.txt\")\n"
      ]
    },
    {
      "cell_type": "code",
      "source": [
        "import requests\n",
        "from bs4 import BeautifulSoup\n",
        "\n",
        "# Replace 'https://your_website.com' with the actual website URL\n",
        "url = 'https://blackarch.org/wireless.html'\n",
        "\n",
        "# Make a request to the website\n",
        "response = requests.get(url)\n",
        "\n",
        "# Parse the HTML content\n",
        "soup = BeautifulSoup(response.content, 'html.parser')\n",
        "\n",
        "# Find all elements with class \"tbl-name\" and itemprop=\"name\"\n",
        "names = soup.find_all('td', class_='tbl-name', itemprop='name')\n",
        "\n",
        "# Extract the text content of each element (the name) and join them with spaces\n",
        "extracted_names = ' '.join(name.text.strip() for name in names)\n",
        "\n",
        "# Write the extracted names to a text file\n",
        "with open('names.txt', 'w') as f:\n",
        "    f.write(extracted_names)\n",
        "\n",
        "print(\"Names extracted and saved to names.txt (separated by spaces)\")\n"
      ],
      "metadata": {
        "colab": {
          "base_uri": "https://localhost:8080/"
        },
        "id": "i1DS3gwl01RT",
        "outputId": "86181e95-7edf-43c0-fa1f-61e15c32a5ab"
      },
      "execution_count": null,
      "outputs": [
        {
          "output_type": "stream",
          "name": "stdout",
          "text": [
            "Names extracted and saved to names.txt (separated by spaces)\n"
          ]
        }
      ]
    }
  ]
}